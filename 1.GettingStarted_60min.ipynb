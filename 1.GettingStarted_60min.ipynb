{
 "cells": [
  {
   "cell_type": "markdown",
   "metadata": {},
   "source": [
    "# ライトニングpytorch入門\n",
    "\n",
    "- https://qiita.com/sh-tatsuno/items/42fccff90c98103dffc9\n",
    "- https://github.com/sh-tatsuno/pytorch/tree/master/tutorials\n",
    "- https://github.com/sh-tatsuno/pytorch/blob/master/tutorials/Pytorch_Tutorials.ipynb"
   ]
  },
  {
   "cell_type": "code",
   "execution_count": 9,
   "metadata": {},
   "outputs": [],
   "source": [
    "import torch #基本モジュール\n",
    "from torch.autograd import Variable #自動微分用\n",
    "import torch.nn as nn #ネットワーク構築用\n",
    "import torch.optim as optim #最適化関数\n",
    "import torch.nn.functional as F #ネットワーク用の様々な関数\n",
    "import torch.utils.data #データセット読み込み関連\n",
    "import torchvision #画像関連\n",
    "from torchvision import datasets, models, transforms #画像用データセット諸々\n",
    "\n",
    "import numpy as np"
   ]
  },
  {
   "cell_type": "markdown",
   "metadata": {},
   "source": [
    "## Pytorchの基本"
   ]
  },
  {
   "cell_type": "code",
   "execution_count": 10,
   "metadata": {},
   "outputs": [],
   "source": [
    "x = torch.Tensor(5, 3)\n",
    "y = torch.rand(5, 3)\n",
    "z = x + y"
   ]
  },
  {
   "cell_type": "code",
   "execution_count": 11,
   "metadata": {},
   "outputs": [
    {
     "data": {
      "text/plain": [
       "(tensor([[6.7333e+22, 1.7591e+22, 1.7184e+25],\n",
       "         [4.3222e+27, 6.1972e-04, 7.2443e+22],\n",
       "         [1.7728e+28, 7.0367e+22, 2.9926e+21],\n",
       "         [4.1068e-08, 1.0538e-11, 2.0428e+20],\n",
       "         [8.3895e-07, 8.1919e-10, 6.3011e-10]]),\n",
       " tensor([[0.2952, 0.2615, 0.9902],\n",
       "         [0.1156, 0.9849, 0.5432],\n",
       "         [0.5931, 0.8572, 0.8440],\n",
       "         [0.1307, 0.0143, 0.3704],\n",
       "         [0.3464, 0.2064, 0.4068]]),\n",
       " tensor([[6.7333e+22, 1.7591e+22, 1.7184e+25],\n",
       "         [4.3222e+27, 9.8549e-01, 7.2443e+22],\n",
       "         [1.7728e+28, 7.0367e+22, 2.9926e+21],\n",
       "         [1.3068e-01, 1.4270e-02, 2.0428e+20],\n",
       "         [3.4641e-01, 2.0638e-01, 4.0676e-01]]))"
      ]
     },
     "execution_count": 11,
     "metadata": {},
     "output_type": "execute_result"
    }
   ],
   "source": [
    "x, y, z"
   ]
  },
  {
   "cell_type": "code",
   "execution_count": 12,
   "metadata": {},
   "outputs": [],
   "source": [
    "# 全ての変数はTensorに変換する必要がある\n",
    "x = np.random.rand(5, 3)\n",
    "y = torch.from_numpy(x)\n",
    "z = y.numpy()"
   ]
  },
  {
   "cell_type": "code",
   "execution_count": 13,
   "metadata": {},
   "outputs": [
    {
     "data": {
      "text/plain": [
       "(array([[0.3629789 , 0.70929672, 0.7421238 ],\n",
       "        [0.77249985, 0.76290581, 0.34722547],\n",
       "        [0.03590953, 0.37297388, 0.98515573],\n",
       "        [0.98219279, 0.70901926, 0.7469488 ],\n",
       "        [0.99470361, 0.37431763, 0.08880553]]),\n",
       " tensor([[0.3630, 0.7093, 0.7421],\n",
       "         [0.7725, 0.7629, 0.3472],\n",
       "         [0.0359, 0.3730, 0.9852],\n",
       "         [0.9822, 0.7090, 0.7469],\n",
       "         [0.9947, 0.3743, 0.0888]], dtype=torch.float64),\n",
       " array([[0.3629789 , 0.70929672, 0.7421238 ],\n",
       "        [0.77249985, 0.76290581, 0.34722547],\n",
       "        [0.03590953, 0.37297388, 0.98515573],\n",
       "        [0.98219279, 0.70901926, 0.7469488 ],\n",
       "        [0.99470361, 0.37431763, 0.08880553]]))"
      ]
     },
     "execution_count": 13,
     "metadata": {},
     "output_type": "execute_result"
    }
   ],
   "source": [
    "x, y, z"
   ]
  },
  {
   "cell_type": "markdown",
   "metadata": {},
   "source": [
    "### pytorchの自動微分機能\n",
    "pytorchはautogradというTensorの自動微分機能を備えている.  \n",
    "この機能はdefined-by-run形式で、どのようにコードが走ったかで微分方向が変わる.  \n",
    "そのため、ループごとに構造を変えるなどの柔軟な記述もできる."
   ]
  },
  {
   "cell_type": "code",
   "execution_count": 14,
   "metadata": {},
   "outputs": [],
   "source": [
    "import torch\n",
    "from torch.autograd import Variable"
   ]
  },
  {
   "cell_type": "code",
   "execution_count": 15,
   "metadata": {},
   "outputs": [],
   "source": [
    "# Tensor型にしたものを微分対応させるためには Variable型にする必要がある\n",
    "x = Variable(torch.ones(2, 2), requires_grad=True)\n",
    "y = x + 2\n",
    "z = torch.pow(y,2) + 2 #y_i**2 + 2\n",
    "out = z.mean()"
   ]
  },
  {
   "cell_type": "code",
   "execution_count": 16,
   "metadata": {},
   "outputs": [],
   "source": [
    "out.backward()"
   ]
  },
  {
   "cell_type": "code",
   "execution_count": 17,
   "metadata": {},
   "outputs": [
    {
     "data": {
      "text/plain": [
       "tensor([[1.5000, 1.5000],\n",
       "        [1.5000, 1.5000]])"
      ]
     },
     "execution_count": 17,
     "metadata": {},
     "output_type": "execute_result"
    }
   ],
   "source": [
    "x.grad"
   ]
  },
  {
   "cell_type": "markdown",
   "metadata": {},
   "source": [
    "↓ よくわからない例"
   ]
  },
  {
   "cell_type": "code",
   "execution_count": 18,
   "metadata": {},
   "outputs": [],
   "source": [
    "x = torch.randn(3)\n",
    "x = Variable(x, requires_grad=True)\n",
    "\n",
    "y = x*2\n",
    "while y.norm() < 1000:\n",
    "    y = y*2"
   ]
  },
  {
   "cell_type": "code",
   "execution_count": 19,
   "metadata": {},
   "outputs": [
    {
     "data": {
      "text/plain": [
       "(tensor(1286.5626, grad_fn=<NormBackward0>),\n",
       " tensor([ -220.1311, -1220.3700,  -342.7576], grad_fn=<MulBackward0>))"
      ]
     },
     "execution_count": 19,
     "metadata": {},
     "output_type": "execute_result"
    }
   ],
   "source": [
    "y.norm(), y"
   ]
  },
  {
   "cell_type": "code",
   "execution_count": 20,
   "metadata": {},
   "outputs": [],
   "source": [
    "gradients = torch.FloatTensor([0.1, 1.0, 0.0001])\n",
    "y.backward(gradients)"
   ]
  },
  {
   "cell_type": "code",
   "execution_count": 21,
   "metadata": {},
   "outputs": [
    {
     "data": {
      "text/plain": [
       "tensor([1.0240e+02, 1.0240e+03, 1.0240e-01])"
      ]
     },
     "execution_count": 21,
     "metadata": {},
     "output_type": "execute_result"
    }
   ],
   "source": [
    "x.grad"
   ]
  },
  {
   "cell_type": "markdown",
   "metadata": {},
   "source": [
    "### データの取得, 変換"
   ]
  },
  {
   "cell_type": "code",
   "execution_count": 22,
   "metadata": {},
   "outputs": [],
   "source": [
    "# pytorchで与えるデータはTensor(train), Tensor(target)のようにする必要がある.\n",
    "# データラベルを同時に変換させる関数としてTensorDatasetがある.\n",
    "train_size = 10000\n",
    "test_size = 1000\n",
    "x_train, y_train = np.random.rand(train_size, 784), np.random.rand(train_size, 1)\n",
    "x_test, y_test = np.random.rand(test_size, 784), np.random.rand(test_size, 1)\n",
    "\n",
    "train = torch.utils.data.TensorDataset(torch.from_numpy(x_train), torch.from_numpy(y_train))\n",
    "train_loader = torch.utils.data.DataLoader(train, batch_size=100, shuffle=True)\n",
    "test = torch.utils.data.TensorDataset(torch.from_numpy(x_test), torch.from_numpy(y_test))\n",
    "test_loader = torch.utils.data.DataLoader(test, batch_size=100, shuffle=True)"
   ]
  },
  {
   "cell_type": "markdown",
   "metadata": {},
   "source": [
    "## pytorchによるDNN入門"
   ]
  },
  {
   "cell_type": "code",
   "execution_count": 23,
   "metadata": {},
   "outputs": [],
   "source": [
    "import torch\n",
    "from torch.autograd import Variable\n",
    "import torch.nn as nn\n",
    "import torch.nn.functional as F"
   ]
  },
  {
   "cell_type": "markdown",
   "metadata": {},
   "source": [
    "### モデルの構築"
   ]
  },
  {
   "cell_type": "code",
   "execution_count": 24,
   "metadata": {},
   "outputs": [],
   "source": [
    "# networkの定義\n",
    "# DNNの構造とrunの方法を定義する\n",
    "class Net(nn.Module):\n",
    "    \n",
    "    def __init__(self):\n",
    "        super(Net, self).__init__()\n",
    "        \n",
    "        # 1つの入力チャネル, 6つの出力チャネル 5*5の畳み込み\n",
    "        self.conv1 = nn.Conv2d(1, 6, 5)\n",
    "        self.conv2 = nn.Conv2d(6, 16, 5)\n",
    "        \n",
    "        # 線形演算\n",
    "        self.fc1 = nn.Linear(16*5*5, 120)\n",
    "        self.fc2 = nn.Linear(120, 84)\n",
    "        self.fc3 = nn.Linear(84, 10)\n",
    "        \n",
    "    def forward(self, x):\n",
    "        \n",
    "        # 2*2のwindowでmax pooling\n",
    "        x = F.max_pool2d(F.relu(self.conv1(x)), (2,2))\n",
    "        x = F.max_pool2d(F.relu(self.conv2(x)), 2) # スカラで与えると2*2になる\n",
    "        \n",
    "        # 型変換（reshape）\n",
    "        x = x.view(-1, self.num_flat_features(x))\n",
    "        x = F.relu(self.fc1(x))\n",
    "        x = F.relu(self.fc2(x))\n",
    "        x = self.fc3(x)\n",
    "        return x\n",
    "        \n",
    "    def num_flat_features(self, x):\n",
    "        # バッチの次元以外をflatにする\n",
    "        size = x.size()[1:]\n",
    "        num_features = 1\n",
    "        for s in size:\n",
    "            num_features *= s\n",
    "        return num_features"
   ]
  },
  {
   "cell_type": "code",
   "execution_count": 25,
   "metadata": {},
   "outputs": [
    {
     "data": {
      "text/plain": [
       "Net(\n",
       "  (conv1): Conv2d(1, 6, kernel_size=(5, 5), stride=(1, 1))\n",
       "  (conv2): Conv2d(6, 16, kernel_size=(5, 5), stride=(1, 1))\n",
       "  (fc1): Linear(in_features=400, out_features=120, bias=True)\n",
       "  (fc2): Linear(in_features=120, out_features=84, bias=True)\n",
       "  (fc3): Linear(in_features=84, out_features=10, bias=True)\n",
       ")"
      ]
     },
     "execution_count": 25,
     "metadata": {},
     "output_type": "execute_result"
    }
   ],
   "source": [
    "net = Net()\n",
    "net"
   ]
  },
  {
   "cell_type": "code",
   "execution_count": 28,
   "metadata": {},
   "outputs": [
    {
     "name": "stdout",
     "output_type": "stream",
     "text": [
      "torch.Size([6, 1, 5, 5])\n",
      "torch.Size([6])\n",
      "torch.Size([16, 6, 5, 5])\n",
      "torch.Size([16])\n",
      "torch.Size([120, 400])\n",
      "torch.Size([120])\n",
      "torch.Size([84, 120])\n",
      "torch.Size([84])\n",
      "torch.Size([10, 84])\n",
      "torch.Size([10])\n"
     ]
    }
   ],
   "source": [
    "# パラメータの確認\n",
    "params = list(net.parameters())\n",
    "for param in params:\n",
    "    # weight と bias？\n",
    "    print(param.size())"
   ]
  },
  {
   "cell_type": "code",
   "execution_count": 29,
   "metadata": {},
   "outputs": [
    {
     "data": {
      "text/plain": [
       "tensor([[-0.1347, -0.0601, -0.0381,  0.0180,  0.0557,  0.0845, -0.1078, -0.0375,\n",
       "          0.0637,  0.0449]], grad_fn=<AddmmBackward>)"
      ]
     },
     "execution_count": 29,
     "metadata": {},
     "output_type": "execute_result"
    }
   ],
   "source": [
    "# 出力テスト\n",
    "_input = Variable(torch.randn(1, 1, 32, 32))\n",
    "out = net(_input)\n",
    "out"
   ]
  },
  {
   "cell_type": "code",
   "execution_count": 30,
   "metadata": {},
   "outputs": [],
   "source": [
    "#勾配を初期化\n",
    "net.zero_grad()"
   ]
  },
  {
   "cell_type": "code",
   "execution_count": 31,
   "metadata": {},
   "outputs": [],
   "source": [
    "# ランダムな勾配でback-propagation\n",
    "out.backward(torch.randn(1, 10))"
   ]
  },
  {
   "cell_type": "markdown",
   "metadata": {},
   "source": [
    "### Loss関数の定義"
   ]
  },
  {
   "cell_type": "code",
   "execution_count": 62,
   "metadata": {},
   "outputs": [],
   "source": [
    "# input->net->output\n",
    "output = net(_input)\n",
    "\n",
    "# ダミーラベル情報\n",
    "target = torch.Tensor(1, 10)\n",
    "\n",
    "# loss関数の定義\n",
    "criterion = nn.MSELoss()\n",
    "\n",
    "# どの部分でlossを比較するか\n",
    "loss = criterion(output, target)"
   ]
  },
  {
   "cell_type": "code",
   "execution_count": 63,
   "metadata": {},
   "outputs": [
    {
     "data": {
      "text/plain": [
       "(tensor([[-0.1247, -0.0466, -0.0182,  0.0197,  0.0707,  0.0977, -0.0953, -0.0322,\n",
       "           0.0821,  0.0622]], grad_fn=<AddmmBackward>),\n",
       " tensor([[ 1.6515e-12,  4.5594e-41,  1.1433e-36,  0.0000e+00, -4.1856e-14,\n",
       "           4.5593e-41,  1.1807e-36,  0.0000e+00,  1.2122e-36,  0.0000e+00]]))"
      ]
     },
     "execution_count": 63,
     "metadata": {},
     "output_type": "execute_result"
    }
   ],
   "source": [
    "output, target"
   ]
  },
  {
   "cell_type": "code",
   "execution_count": 64,
   "metadata": {},
   "outputs": [
    {
     "data": {
      "text/plain": [
       "tensor(0.0054, grad_fn=<MseLossBackward>)"
      ]
     },
     "execution_count": 64,
     "metadata": {},
     "output_type": "execute_result"
    }
   ],
   "source": [
    "loss"
   ]
  },
  {
   "cell_type": "code",
   "execution_count": 65,
   "metadata": {},
   "outputs": [
    {
     "data": {
      "text/plain": [
       "<MseLossBackward at 0x7f187ef81208>"
      ]
     },
     "execution_count": 65,
     "metadata": {},
     "output_type": "execute_result"
    }
   ],
   "source": [
    "# creator\n",
    "loss.grad_fn"
   ]
  },
  {
   "cell_type": "markdown",
   "metadata": {},
   "source": [
    "## Backpropagation"
   ]
  },
  {
   "cell_type": "code",
   "execution_count": 66,
   "metadata": {},
   "outputs": [
    {
     "name": "stdout",
     "output_type": "stream",
     "text": [
      "before conv1.bias.grad\n",
      "tensor([0., 0., 0., 0., 0., 0.])\n",
      "after conv1.bias.grad\n",
      "tensor([ 5.6312e-04, -7.0789e-05, -7.1685e-05,  5.3128e-05,  3.6053e-04,\n",
      "        -3.3237e-04])\n"
     ]
    }
   ],
   "source": [
    "# 勾配を初期化\n",
    "net.zero_grad()\n",
    "\n",
    "# backpropagation前\n",
    "print('before conv1.bias.grad')\n",
    "print(net.conv1.bias.grad)\n",
    "\n",
    "loss.backward()\n",
    "\n",
    "# backpropagation後\n",
    "print('after conv1.bias.grad')\n",
    "print(net.conv1.bias.grad)"
   ]
  },
  {
   "cell_type": "markdown",
   "metadata": {},
   "source": [
    "## 重み更新"
   ]
  },
  {
   "cell_type": "markdown",
   "metadata": {},
   "source": [
    "更新関数は自作することも可能"
   ]
  },
  {
   "cell_type": "code",
   "execution_count": 45,
   "metadata": {},
   "outputs": [],
   "source": [
    "learning_rate = 0.01\n",
    "for f in net.parameters():\n",
    "    # weight = weight - learning_rate * gradient\n",
    "    f.data.sub_(f.grad.data * learning_rate)"
   ]
  },
  {
   "cell_type": "markdown",
   "metadata": {},
   "source": [
    "`torch.optim`に最適化関数のパッケージがある"
   ]
  },
  {
   "cell_type": "code",
   "execution_count": 67,
   "metadata": {},
   "outputs": [],
   "source": [
    "import torch.optim as optim\n",
    "\n",
    "# 最適化関数のインスタンス化\n",
    "# ネットワークの重みや勾配情報の generator を入力する\n",
    "optimizer = optim.SGD(net.parameters(), lr=0.01, momentum=0.9)\n",
    "\n",
    "# --- 学習の 1 loop ---\n",
    "# 1. 最適化関数の初期化\n",
    "optimizer.zero_grad()\n",
    "# 2. モデルから出力を取得\n",
    "output = net(_input)\n",
    "# 3. lossの計算, backpropagation → 勾配情報がモデルに保存される\n",
    "loss = criterion(output, target)\n",
    "loss.backward()\n",
    "# 4. 重み更新\n",
    "optimizer.step()"
   ]
  },
  {
   "cell_type": "markdown",
   "metadata": {},
   "source": [
    "# pytorchを使った画像分類入門"
   ]
  },
  {
   "cell_type": "markdown",
   "metadata": {},
   "source": [
    "CIFAR-10のデータセットでCNNで分類してみる"
   ]
  },
  {
   "cell_type": "code",
   "execution_count": 1,
   "metadata": {},
   "outputs": [],
   "source": [
    "import torch\n",
    "import torchvision\n",
    "import torchvision.transforms as transforms\n",
    "import matplotlib as mpl\n",
    "import matplotlib.pyplot as plt"
   ]
  },
  {
   "cell_type": "code",
   "execution_count": 2,
   "metadata": {},
   "outputs": [],
   "source": [
    "# https://github.com/lanpa/tensorboardX\n",
    "from tensorboardX import SummaryWriter"
   ]
  },
  {
   "cell_type": "markdown",
   "metadata": {},
   "source": [
    "## CIFAR10のデータロード"
   ]
  },
  {
   "cell_type": "code",
   "execution_count": 3,
   "metadata": {},
   "outputs": [
    {
     "name": "stdout",
     "output_type": "stream",
     "text": [
      "Files already downloaded and verified\n"
     ]
    }
   ],
   "source": [
    "rawtrainset = torchvision.datasets.CIFAR10(root='./data', train=True, download=True)"
   ]
  },
  {
   "cell_type": "code",
   "execution_count": 4,
   "metadata": {},
   "outputs": [
    {
     "data": {
      "image/png": "[encoded data removed]",
      "text/plain": [
       "<Figure size 432x288 with 1 Axes>"
      ]
     },
     "metadata": {
      "needs_background": "light"
     },
     "output_type": "display_data"
    }
   ],
   "source": [
    "img = rawtrainset[3][0]\n",
    "_ = plt.imshow(img)"
   ]
  },
  {
   "cell_type": "code",
   "execution_count": 5,
   "metadata": {},
   "outputs": [
    {
     "data": {
      "text/plain": [
       "(32, 32, 3)"
      ]
     },
     "execution_count": 5,
     "metadata": {},
     "output_type": "execute_result"
    }
   ],
   "source": [
    "# 32*32*3channel\n",
    "img_array = np.array(img)\n",
    "img_array.shape"
   ]
  },
  {
   "cell_type": "markdown",
   "metadata": {},
   "source": [
    "## Normialize\n",
    "正規化。-1~1に変換"
   ]
  },
  {
   "cell_type": "code",
   "execution_count": 6,
   "metadata": {},
   "outputs": [
    {
     "name": "stdout",
     "output_type": "stream",
     "text": [
      "Files already downloaded and verified\n",
      "Files already downloaded and verified\n"
     ]
    }
   ],
   "source": [
    "# transform: PIL Image変形用のモジュール\n",
    "# Tensorに変形してRGBの各チャネルに対して平均0.5, 分散0.5に標準化\n",
    "transform = transforms.Compose(\n",
    "    [transforms.ToTensor(), # 0~1の範囲でテンソル化\n",
    "     # transforms.Normalize(mean,std)はchannel = (channel - mean) / stdの変換を行う\n",
    "     transforms.Normalize((0.5, 0.5, 0.5), (0.5, 0.5, 0.5))]) # -1~1に正規化\n",
    "\n",
    "#CIFAR-10のtrain, testsetのロード\n",
    "#変形はtransformを適用\n",
    "trainset = torchvision.datasets.CIFAR10(root='./data', train=True, download=True, transform=transform)\n",
    "testset = torchvision.datasets.CIFAR10(root='./data', train=False, download=True, transform=transform)\n",
    "\n",
    "# DataLoarder の適用 バッチ学習やシャッフルとかをしてくれる\n",
    "# batch_sizeでバッチサイズ指定\n",
    "# num_workersでデータをロードするコア数指定\n",
    "train_loader = torch.utils.data.DataLoader(trainset, batch_size=4, shuffle=True, num_workers=2)\n",
    "test_loader = torch.utils.data.DataLoader(testset, batch_size=4, shuffle=True, num_workers=2)\n",
    "\n",
    "# ラベルとクラスの対応\n",
    "class_list = ('plane', 'car', 'bird', 'cat', 'deer', 'dog', 'frog', 'horse', 'ship', 'truck')"
   ]
  },
  {
   "cell_type": "code",
   "execution_count": 7,
   "metadata": {},
   "outputs": [],
   "source": [
    "# transforms.ToTensor()(rawtrainset[0][0])"
   ]
  },
  {
   "cell_type": "code",
   "execution_count": 8,
   "metadata": {},
   "outputs": [],
   "source": [
    "# trainset[0][0]"
   ]
  },
  {
   "cell_type": "code",
   "execution_count": 9,
   "metadata": {},
   "outputs": [
    {
     "data": {
      "text/plain": [
       "4"
      ]
     },
     "execution_count": 9,
     "metadata": {},
     "output_type": "execute_result"
    }
   ],
   "source": [
    "_train_sample = iter(train_loader).next()\n",
    "# [[x1, x2, ..], [y1, y2, ..]] で入る\n",
    "len(_train_sample[0]) # バッチサイズ 4"
   ]
  },
  {
   "cell_type": "markdown",
   "metadata": {},
   "source": [
    "## 画像の描画"
   ]
  },
  {
   "cell_type": "code",
   "execution_count": 10,
   "metadata": {},
   "outputs": [],
   "source": [
    "def imshow(img):\n",
    "    img = img*0.5 + 0.5 # 標準化した画像を元の値に変換\n",
    "    npimg = img.numpy()\n",
    "    plt.imshow(np.transpose(npimg, (1, 2, 0)))"
   ]
  },
  {
   "cell_type": "code",
   "execution_count": 11,
   "metadata": {},
   "outputs": [],
   "source": [
    "# 4個分の画像とラベルの読み込み\n",
    "dataiter = iter(train_loader)\n",
    "images, labels = dataiter.next()"
   ]
  },
  {
   "cell_type": "code",
   "execution_count": 12,
   "metadata": {},
   "outputs": [
    {
     "name": "stdout",
     "output_type": "stream",
     "text": [
      "['deer', 'plane', 'horse', 'frog']\n"
     ]
    },
    {
     "data": {
      "image/png": "[encoded data removed]",
      "text/plain": [
       "<Figure size 432x288 with 1 Axes>"
      ]
     },
     "metadata": {
      "needs_background": "light"
     },
     "output_type": "display_data"
    }
   ],
   "source": [
    "# 画像を繋げて描画\n",
    "imshow(torchvision.utils.make_grid(images))\n",
    "print([class_list[l] for l in labels])"
   ]
  },
  {
   "cell_type": "code",
   "execution_count": 13,
   "metadata": {},
   "outputs": [
    {
     "data": {
      "text/plain": [
       "torch.Size([4, 3, 32, 32])"
      ]
     },
     "execution_count": 13,
     "metadata": {},
     "output_type": "execute_result"
    }
   ],
   "source": [
    "images.size()"
   ]
  },
  {
   "cell_type": "markdown",
   "metadata": {},
   "source": [
    "## モデル構築"
   ]
  },
  {
   "cell_type": "code",
   "execution_count": 30,
   "metadata": {},
   "outputs": [],
   "source": [
    "from torch.autograd import Variable\n",
    "import torch.nn as nn\n",
    "import torch.nn.functional as F\n",
    "\n",
    "class Net(nn.Module):\n",
    "    def __init__(self):\n",
    "        super(Net, self).__init__()\n",
    "        self.conv1 = nn.Conv2d(3, 6, 5)\n",
    "        self.pool = nn.MaxPool2d(2, 2)\n",
    "        self.conv2 = nn.Conv2d(6, 16, 5)\n",
    "        self.fc1 = nn.Linear(16*5*5, 120)\n",
    "        self.fc2 = nn.Linear(120, 84)\n",
    "        self.fc3 = nn.Linear(84, 10)\n",
    "        \n",
    "    def forward(self, x):\n",
    "        # x: (3, 32, 32)\n",
    "        \n",
    "        x = F.relu(self.conv1(x)) # (6, 28, 28)\n",
    "        x = self.pool(x) # (6, 14, 14)\n",
    "        x = F.relu(self.conv2(x)) # (16, 10, 10)\n",
    "        x = self.pool(x) # (16, 5, 5)\n",
    "        x = x.view(-1, 16*5*5) # (16*5*5)\n",
    "        x = F.relu(self.fc1(x)) # (120)\n",
    "        x = F.relu(self.fc2(x)) # (84)\n",
    "        x = self.fc3(x) # (10)\n",
    "        return x"
   ]
  },
  {
   "cell_type": "code",
   "execution_count": 26,
   "metadata": {},
   "outputs": [],
   "source": [
    "def try_gpu(e):\n",
    "    if torch.cuda.is_available():\n",
    "        return e.cuda()\n",
    "    return e"
   ]
  },
  {
   "cell_type": "code",
   "execution_count": 27,
   "metadata": {},
   "outputs": [],
   "source": [
    "net = Net()\n",
    "net = try_gpu(net)"
   ]
  },
  {
   "cell_type": "code",
   "execution_count": 32,
   "metadata": {},
   "outputs": [],
   "source": [
    "# tensorboard\n",
    "dummy_input = torch.Tensor(4, 3, 32, 32)\n",
    "with SummaryWriter('logs', comment='CNN') as w:\n",
    "    w.add_graph(net, try_gpu(dummy_input))"
   ]
  },
  {
   "cell_type": "markdown",
   "metadata": {},
   "source": [
    "## Loss, Optimizer"
   ]
  },
  {
   "cell_type": "code",
   "execution_count": 33,
   "metadata": {},
   "outputs": [],
   "source": [
    "import torch.optim as optim\n",
    "# Loss関数の指定\n",
    "criterion = nn.CrossEntropyLoss()\n",
    "# Optimizerの指定\n",
    "optimizer = optim.SGD(net.parameters(), lr=0.001, momentum=0.9)"
   ]
  },
  {
   "cell_type": "markdown",
   "metadata": {},
   "source": [
    "# 学習"
   ]
  },
  {
   "cell_type": "code",
   "execution_count": 36,
   "metadata": {},
   "outputs": [
    {
     "name": "stdout",
     "output_type": "stream",
     "text": [
      "step1000 loss:0.772508755505085\n",
      "step2000 loss:0.7585824604332447\n",
      "step3000 loss:0.7484842498898506\n",
      "step4000 loss:0.7366381895840168\n",
      "step5000 loss:0.7343597276061773\n",
      "step6000 loss:0.7195540308058261\n",
      "step7000 loss:0.7009999278783798\n",
      "step8000 loss:0.709689303740859\n",
      "step9000 loss:0.6828709129691124\n",
      "step10000 loss:0.6925980863273143\n",
      "step11000 loss:0.6667536693364382\n",
      "step12000 loss:0.6784817864745856\n",
      "step1999 loss:0.6262766677588224\n",
      "step3999 loss:0.6307439768016339\n",
      "step5999 loss:0.6189034359306097\n",
      "step7999 loss:0.6174442539066076\n",
      "step9999 loss:0.6131589267700911\n",
      "step11999 loss:0.6238273134231568\n",
      "step13999 loss:0.6245198415517808\n",
      "step15999 loss:0.6130777754634619\n",
      "step17999 loss:0.606252468124032\n",
      "step19999 loss:0.611197123631835\n",
      "step21999 loss:0.612439124032855\n",
      "step23999 loss:0.5931224361509084\n",
      "Finished Train\n"
     ]
    }
   ],
   "source": [
    "writer = SummaryWriter('logs')\n",
    "\n",
    "for epoch in range(2):\n",
    "    \n",
    "    running_loss = 0.0\n",
    "    \n",
    "    for i, (inputs, labels) in enumerate(train_loader):\n",
    "        \n",
    "        # 入力データ-ラベル\n",
    "        inputs, labels = try_gpu(inputs), try_gpu(labels)\n",
    "        \n",
    "        # Variableに変形\n",
    "        inputs, labels = Variable(inputs), Variable(labels)\n",
    "        \n",
    "        # optimizerの初期化\n",
    "        optimizer.zero_grad()\n",
    "        \n",
    "        # 出力\n",
    "        outputs = net(inputs)\n",
    "        # loss, backpropagation, optim\n",
    "        loss = criterion(outputs, labels)\n",
    "        loss.backward()\n",
    "        optimizer.step()\n",
    "        \n",
    "        # log\n",
    "        writer.add_scalar('train/loss', loss.data.item(), i*(epoch+1))\n",
    "        running_loss += loss.data.item()\n",
    "        \n",
    "        if i%1000==999:\n",
    "            print(f'step{i*(epoch+1)+1} loss:{running_loss/2000}')\n",
    "            running_loss = 0\n",
    "\n",
    "print('Finished Train')"
   ]
  },
  {
   "cell_type": "markdown",
   "metadata": {},
   "source": [
    "# テスト"
   ]
  },
  {
   "cell_type": "code",
   "execution_count": 37,
   "metadata": {},
   "outputs": [
    {
     "name": "stdout",
     "output_type": "stream",
     "text": [
      "GroundTruth: ['truck', 'bird', 'cat', 'frog']\n"
     ]
    },
    {
     "data": {
      "image/png": "[encoded data removed]",
      "text/plain": [
       "<Figure size 432x288 with 1 Axes>"
      ]
     },
     "metadata": {
      "needs_background": "light"
     },
     "output_type": "display_data"
    }
   ],
   "source": [
    "#テストについても同様に4つサンプリングする\n",
    "dataiter = iter(test_loader)\n",
    "images, labels = dataiter.next()\n",
    "\n",
    "imshow(torchvision.utils.make_grid(images))\n",
    "print(f'GroundTruth: {[class_list[l] for l in labels]}')"
   ]
  },
  {
   "cell_type": "code",
   "execution_count": 40,
   "metadata": {},
   "outputs": [],
   "source": [
    "#画像をネットワークに通す\n",
    "outputs = net(try_gpu(Variable(images)))"
   ]
  },
  {
   "cell_type": "code",
   "execution_count": 41,
   "metadata": {},
   "outputs": [
    {
     "data": {
      "text/plain": [
       "tensor([[-1.4864,  0.6234, -0.4182,  0.1694, -1.0610,  1.3362, -0.6563,  0.6723,\n",
       "         -0.3832,  2.7878],\n",
       "        [-2.8284, -1.2293,  0.8099,  3.8233, -3.0522,  3.3824, -0.9304,  0.5230,\n",
       "         -0.2092,  0.0221],\n",
       "        [ 0.3066, -1.8927,  0.9076,  1.2753,  0.2400, -0.0189,  1.9547, -1.5381,\n",
       "         -0.2295, -1.1897],\n",
       "        [ 1.1872, -0.8648,  2.6230, -1.1463,  0.4303, -2.1760,  3.1375, -3.1347,\n",
       "          0.8564, -1.9475]], device='cuda:0', grad_fn=<AddmmBackward>)"
      ]
     },
     "execution_count": 41,
     "metadata": {},
     "output_type": "execute_result"
    }
   ],
   "source": [
    "outputs"
   ]
  },
  {
   "cell_type": "code",
   "execution_count": 42,
   "metadata": {},
   "outputs": [
    {
     "data": {
      "text/plain": [
       "['truck', 'cat', 'frog', 'frog']"
      ]
     },
     "execution_count": 42,
     "metadata": {},
     "output_type": "execute_result"
    }
   ],
   "source": [
    "# predictの最大を計測する\n",
    "[class_list[i] for i in outputs.max(1)[1]]"
   ]
  },
  {
   "cell_type": "code",
   "execution_count": 43,
   "metadata": {},
   "outputs": [
    {
     "data": {
      "text/plain": [
       "torch.Size([4])"
      ]
     },
     "execution_count": 43,
     "metadata": {},
     "output_type": "execute_result"
    }
   ],
   "source": [
    "labels.size()"
   ]
  },
  {
   "cell_type": "code",
   "execution_count": 46,
   "metadata": {},
   "outputs": [
    {
     "name": "stdout",
     "output_type": "stream",
     "text": [
      "Accuracy test: 5719/10000\n"
     ]
    }
   ],
   "source": [
    "# Accuracy\n",
    "correct = 0\n",
    "total = 0\n",
    "for images, labels in test_loader:\n",
    "    images, labels = try_gpu(images), try_gpu(labels)\n",
    "    outputs = net(Variable(images))\n",
    "    _, predicts = outputs.max(1)\n",
    "    total += labels.size(0)\n",
    "    correct += (predicts == labels).sum()\n",
    "    \n",
    "print(f'Accuracy test: {correct}/{total}')"
   ]
  },
  {
   "cell_type": "code",
   "execution_count": 49,
   "metadata": {},
   "outputs": [
    {
     "name": "stdout",
     "output_type": "stream",
     "text": [
      "3Accuracy of plane: 49%\n",
      "Accuracy of car: 63%\n",
      "Accuracy of bird: 64%\n",
      "Accuracy of cat: 31%\n",
      "Accuracy of deer: 37%\n",
      "Accuracy of dog: 35%\n",
      "Accuracy of frog: 69%\n",
      "Accuracy of horse: 65%\n",
      "Accuracy of ship: 80%\n",
      "Accuracy of truck: 75%\n"
     ]
    }
   ],
   "source": [
    "# Accuracy by class\n",
    "class_correct = [0 for _ in range(10)]\n",
    "class_total = [0 for _ in range(10)]\n",
    "\n",
    "for images, labels in test_loader:\n",
    "    images, labels = try_gpu(images), try_gpu(labels)\n",
    "    outputs = net(Variable(images))\n",
    "    _, predicts = outputs.max(1)\n",
    "    correct_list = (predicts == labels).squeeze()\n",
    "    for i, label in enumerate(labels):\n",
    "        class_correct[label] += correct_list[i]\n",
    "        class_total[label] += 1\n",
    "        print(f'\\r{i}', end='')\n",
    "        \n",
    "for i in range(10):\n",
    "    print(f'Accuracy of {class_list[i]}: {100*class_correct[i]/class_total[i]}%')"
   ]
  }
 ],
 "metadata": {
  "kernelspec": {
   "display_name": "Python 3",
   "language": "python",
   "name": "python3"
  },
  "language_info": {
   "codemirror_mode": {
    "name": "ipython",
    "version": 3
   },
   "file_extension": ".py",
   "mimetype": "text/x-python",
   "name": "python",
   "nbconvert_exporter": "python",
   "pygments_lexer": "ipython3",
   "version": "3.7.3"
  }
 },
 "nbformat": 4,
 "nbformat_minor": 2
}
